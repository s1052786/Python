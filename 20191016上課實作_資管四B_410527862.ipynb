{
 "cells": [
  {
   "cell_type": "markdown",
   "metadata": {},
   "source": [
    "## 實作練習一"
   ]
  },
  {
   "cell_type": "code",
   "execution_count": 2,
   "metadata": {},
   "outputs": [
    {
     "name": "stdout",
     "output_type": "stream",
     "text": [
      "請輸入成績:88\n",
      "甲等\n"
     ]
    }
   ],
   "source": [
    "score = int(input(\"請輸入成績:\"))\n",
    "str = \"\"\n",
    "if (score >= 90) :\n",
    "    str = \"優等\"\n",
    "elif (score >= 80) :\n",
    "    str = \"甲等\"\n",
    "elif (score >= 70) :\n",
    "    str = \"乙等\"\n",
    "elif (score >= 60) : \n",
    "    str = \"丙等\"\n",
    "else :\n",
    "    str = \"丁等\"\n",
    "\n",
    "print(str)"
   ]
  },
  {
   "cell_type": "markdown",
   "metadata": {},
   "source": [
    "## 實作練習二"
   ]
  },
  {
   "cell_type": "code",
   "execution_count": 6,
   "metadata": {},
   "outputs": [
    {
     "name": "stdout",
     "output_type": "stream",
     "text": [
      "請輸入正整數:10\n",
      "1 到 10 的正整數和為 55\n"
     ]
    }
   ],
   "source": [
    "n = int(input(\"請輸入正整數:\"))\n",
    "sum = 0\n",
    "for i in range(1, n+1):\n",
    "    sum += i\n",
    "print(\"1 到 %d 的正整數和為 %d\" %(n, sum))   "
   ]
  },
  {
   "cell_type": "markdown",
   "metadata": {},
   "source": [
    "## 實作練習五"
   ]
  },
  {
   "cell_type": "code",
   "execution_count": 11,
   "metadata": {},
   "outputs": [
    {
     "name": "stdout",
     "output_type": "stream",
     "text": [
      "請輸入正整數:29\n",
      "1 2 3 4 6 7 8 9 11 12 13 14 16 17 18 19 21 22 23 24 26 27 28 29 "
     ]
    }
   ],
   "source": [
    "n = int(input(\"請輸入正整數:\"))\n",
    "for i in range(1, n+1) :\n",
    "    if (i % 5 == 0) :\n",
    "        continue\n",
    "    print(\"%d\" %(i), end=\" \")    "
   ]
  },
  {
   "cell_type": "markdown",
   "metadata": {},
   "source": [
    "## 實作練習六"
   ]
  },
  {
   "cell_type": "code",
   "execution_count": 16,
   "metadata": {},
   "outputs": [
    {
     "name": "stdout",
     "output_type": "stream",
     "text": [
      "請輸入正整數 n 的值:6\n",
      "6! = 720\n"
     ]
    }
   ],
   "source": [
    "n = int(input(\"請輸入正整數 n 的值:\"))\n",
    "sum = 1\n",
    "i = 1\n",
    "while (i <= n) :\n",
    "    sum *= i\n",
    "    i += 1\n",
    "print(\"%d! = %d\" %(n, sum))    "
   ]
  },
  {
   "cell_type": "code",
   "execution_count": null,
   "metadata": {},
   "outputs": [],
   "source": []
  }
 ],
 "metadata": {
  "kernelspec": {
   "display_name": "Python 3",
   "language": "python",
   "name": "python3"
  },
  "language_info": {
   "codemirror_mode": {
    "name": "ipython",
    "version": 3
   },
   "file_extension": ".py",
   "mimetype": "text/x-python",
   "name": "python",
   "nbconvert_exporter": "python",
   "pygments_lexer": "ipython3",
   "version": "3.7.3"
  }
 },
 "nbformat": 4,
 "nbformat_minor": 2
}
